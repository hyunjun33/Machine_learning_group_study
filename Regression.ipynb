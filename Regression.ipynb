{
 "cells": [
  {
   "cell_type": "markdown",
   "id": "b2ecae02",
   "metadata": {},
   "source": [
    "### 회귀 모델이란 무엇인가?\n",
    "\n",
    "* 회귀 모델은 어떤 연속형 데이터 Y와 Y의 원인으로 추정되는 X간의 관계를 추정하기 위해 만든 함수이다.\n",
    "* Y = f(X) + e (noise 보정)\n",
    "* 여기서 e는 통계학에서 부차적인 오차를 보정하기 위한 확률 변수를 의미한다. ex) 부피 = W * 온도"
   ]
  },
  {
   "cell_type": "markdown",
   "id": "8f381d85",
   "metadata": {},
   "source": [
    "### 무엇이 어디로 \"회귀\"하는가?\n",
    "\n",
    "* regression의 사전적 의미는 \"한바퀴 돌아 제자리로 돌아가다\" 이다.\n",
    "* regression model에서 핵심은 \"무엇이 어디로 회귀하는 것인가?\" 이다.\n",
    "* 회귀 모델의 핵심 원리는 잔차(RSS)가 평균으로 회귀하는 것을 의미한다.\n",
    "* 엄밀히 따지면, 회귀 모델링에서 오차의 합이 최소가 되는 패턴을 찾는 것은 절반만 맞다!"
   ]
  },
  {
   "cell_type": "markdown",
   "id": "6f518ead",
   "metadata": {},
   "source": [
    "### 모델링 = 모델의 관계식 추정 + 파라미터 추정\n",
    "\n",
    "1. 항상 모델의 예측차와 실측치 사이에 차이는 존재한다.\n",
    "2. 정확한 모델의 잔차는 평균 값인 0으로 회귀하지만, 부정확한 모델은 그렇지 못하다.\n",
    "\n",
    "* 잔차의 원인이 현실에서 존재할 수 밖에 없는 잡음인지 아니면, 고려하지 못한 속성 때문인지 구분이 필요하다.\n",
    "* 잔차의 정규 분포 여부, 잔차와 독립변수 X간의 상관관계(X), 잔차 자신 또한 독립이어야 한다.\n",
    "* 잔차의 분포가 일정해야 함 (잔차의 등분산성)"
   ]
  },
  {
   "cell_type": "markdown",
   "id": "a1543d4c",
   "metadata": {},
   "source": [
    "### 잔차의 정규성을 확인하라\n",
    "* 잔차의 분포를 검증하는 여러 방법을 활용할 수 있다. (히스토그램, P-value, normal quantile plot 등등)\n",
    "\n",
    "### 잔차의 독립성을 확인하라\n",
    "* X와의 상관성\n",
    "* 자기 자신과의 상관성\n",
    "* 상관성을 확인하는 가장 쉬운 방법은 피어슨 상관 계수를 구하는 것이다.\n",
    "* 독립변수 X와 각각의 잔차간의 상관 관계를 scatter plot을 이용해 확인해볼 수 있다.\n",
    "* 시계열 데이터의 경우, 자기 자신과의 상관성 검증이 매우 중요하다.(모델에 잔차에 대한 자기 상관 관계를 반영해야함)"
   ]
  },
  {
   "cell_type": "markdown",
   "id": "7d6abed6",
   "metadata": {},
   "source": [
    "### 결론\n",
    "\n",
    "* 회귀 모델에서 중요한 것은 잔차의 값이 최소가 되는 패턴을 찾는 것과 동시에, 잔차의 회귀를 만족해야 한다.\n",
    "* 여기서 잔차의 회귀는 평균 값이 0으로의 수렴하는 성질을 의미한다.\n",
    "\n",
    "참고 웹페이지 : https://brunch.co.kr/@gimmesilver/17#comment"
   ]
  },
  {
   "cell_type": "markdown",
   "id": "b0b7bc9f",
   "metadata": {},
   "source": [
    "### 경사하강법 (Gradient descent)\n",
    "\n",
    "* W1, W0의 임의의 값을 설정하고, 비용 함수의 값을 계산한다.\n",
    "* 비용함수의 미분계수 (순간 변화율에 대한 함수식)를 계산하여, 가중치의 보정치를 계산한다.\n",
    "* 가중치에 보정치를 업데이트 하여 비용 함수의 값을 계산한다.\n",
    "* 위에 패턴을 반복하면서 비용 함수의 값이 최소가 되는 가중치의 조합을 찾아내서, 반복을 중지한다."
   ]
  },
  {
   "cell_type": "code",
   "execution_count": 1,
   "id": "94665aa1",
   "metadata": {},
   "outputs": [
    {
     "data": {
      "text/plain": [
       "<matplotlib.collections.PathCollection at 0x11dff19aee0>"
      ]
     },
     "execution_count": 1,
     "metadata": {},
     "output_type": "execute_result"
    },
    {
     "data": {
      "image/png": "[encoded data removed]",
      "text/plain": [
       "<Figure size 432x288 with 1 Axes>"
      ]
     },
     "metadata": {
      "needs_background": "light"
     },
     "output_type": "display_data"
    }
   ],
   "source": [
    "import numpy as np\n",
    "import matplotlib.pyplot as plt\n",
    "%matplotlib inline\n",
    "\n",
    "np.random.seed(0)\n",
    "# y = 4X + 6 식을 근사(w1=4, w0=6). random 값은 Noise를 위해 만듬\n",
    "X = 2 * np.random.rand(100,1)\n",
    "y = 6 +4 * X+ np.random.randn(100,1)\n",
    "\n",
    "# X, y 데이터 셋 scatter plot으로 시각화\n",
    "plt.scatter(X, y)"
   ]
  },
  {
   "cell_type": "markdown",
   "id": "8b2b4482",
   "metadata": {},
   "source": [
    "w0과 w1의 값을 최소화 할 수 있도록 업데이트 수행하는 함수 생성\n",
    "\n",
    "* 예측 배열 y_pred는 np.dot(X, w1.T) + w0 임 100개의 데이터 X(1,2,...,100)이 있다면 예측값은 w0 + X(1)w1 + X(2)w1 +..+ X(100)*w1이며, 이는 입력 배열 X와 w1 배열의 내적임.\n",
    "* 새로운 w1과 w0를 update함"
   ]
  },
  {
   "cell_type": "code",
   "execution_count": 2,
   "id": "9cb44226",
   "metadata": {},
   "outputs": [],
   "source": [
    "# w1 과 w0 를 업데이트 할 w1_update, w0_update를 반환. \n",
    "def get_weight_updates(w1, w0, X, y, learning_rate=0.01):\n",
    "    N = len(y)\n",
    "    # 먼저 w1_update, w0_update를 각각 w1, w0의 shape와 동일한 크기를 가진 0 값으로 초기화\n",
    "    w1_update = np.zeros_like(w1)\n",
    "    w0_update = np.zeros_like(w0)\n",
    "    # 예측 배열 계산하고 예측과 실제 값의 차이 계산\n",
    "    y_pred = np.dot(X, w1.T) + w0\n",
    "    diff = y-y_pred\n",
    "         \n",
    "    # w0_update를 dot 행렬 연산으로 구하기 위해 모두 1값을 가진 행렬 생성 \n",
    "    w0_factors = np.ones((N,1))\n",
    "\n",
    "    # w1과 w0을 업데이트할 w1_update와 w0_update 계산\n",
    "    w1_update = -(2/N)*learning_rate*(np.dot(X.T, diff))\n",
    "    w0_update = -(2/N)*learning_rate*(np.dot(w0_factors.T, diff))    \n",
    "    \n",
    "    return w1_update, w0_update"
   ]
  },
  {
   "cell_type": "code",
   "execution_count": 3,
   "id": "62db081f",
   "metadata": {},
   "outputs": [
    {
     "name": "stdout",
     "output_type": "stream",
     "text": [
      "(100, 1)\n",
      "(1, 1) (1, 1)\n"
     ]
    },
    {
     "data": {
      "text/plain": [
       "(array([[0.]]), array([[0.]]))"
      ]
     },
     "execution_count": 3,
     "metadata": {},
     "output_type": "execute_result"
    }
   ],
   "source": [
    "w0 = np.zeros((1,1))\n",
    "w1 = np.zeros((1,1))\n",
    "y_pred = np.dot(X, w1.T) + w0\n",
    "diff = y-y_pred\n",
    "print(diff.shape)\n",
    "w0_factors = np.ones((100,1))\n",
    "w1_update = -(2/100)*0.01*(np.dot(X.T, diff))\n",
    "w0_update = -(2/100)*0.01*(np.dot(w0_factors.T, diff))   \n",
    "print(w1_update.shape, w0_update.shape)\n",
    "w1, w0"
   ]
  },
  {
   "cell_type": "code",
   "execution_count": 4,
   "id": "40f12aa9",
   "metadata": {},
   "outputs": [],
   "source": [
    "# 입력 인자 iters로 주어진 횟수만큼 반복적으로 w1과 w0를 업데이트 적용함. \n",
    "def gradient_descent_steps(X, y, iters=10000):\n",
    "    # w0와 w1을 모두 0으로 초기화. \n",
    "    w0 = np.zeros((1,1))\n",
    "    w1 = np.zeros((1,1))\n",
    "    \n",
    "    # 인자로 주어진 iters 만큼 반복적으로 get_weight_updates() 호출하여 w1, w0 업데이트 수행. \n",
    "    for ind in range(iters):\n",
    "        w1_update, w0_update = get_weight_updates(w1, w0, X, y, learning_rate=0.01)\n",
    "        w1 = w1 - w1_update\n",
    "        w0 = w0 - w0_update\n",
    "              \n",
    "    return w1, w0"
   ]
  },
  {
   "cell_type": "code",
   "execution_count": 5,
   "id": "922c00a1",
   "metadata": {},
   "outputs": [
    {
     "name": "stdout",
     "output_type": "stream",
     "text": [
      "w1:4.022 w0:6.162\n",
      "Gradient Descent Total Cost:0.9935\n"
     ]
    }
   ],
   "source": [
    "def get_cost(y, y_pred):\n",
    "    N = len(y) \n",
    "    cost = np.sum(np.square(y - y_pred))/N\n",
    "    return cost\n",
    "\n",
    "w1, w0 = gradient_descent_steps(X, y, iters=1000)\n",
    "print(\"w1:{0:.3f} w0:{1:.3f}\".format(w1[0,0], w0[0,0]))\n",
    "y_pred = w1[0,0] * X + w0\n",
    "print('Gradient Descent Total Cost:{0:.4f}'.format(get_cost(y, y_pred)))"
   ]
  },
  {
   "cell_type": "code",
   "execution_count": 6,
   "id": "b4b799a8",
   "metadata": {},
   "outputs": [
    {
     "data": {
      "text/plain": [
       "[<matplotlib.lines.Line2D at 0x11dff2afdc0>]"
      ]
     },
     "execution_count": 6,
     "metadata": {},
     "output_type": "execute_result"
    },
    {
     "data": {
      "image/png": "[encoded data removed]",
      "text/plain": [
       "<Figure size 432x288 with 1 Axes>"
      ]
     },
     "metadata": {
      "needs_background": "light"
     },
     "output_type": "display_data"
    }
   ],
   "source": [
    "plt.scatter(X, y)\n",
    "plt.plot(X,y_pred)"
   ]
  },
  {
   "cell_type": "code",
   "execution_count": 7,
   "id": "d17fb6a4",
   "metadata": {},
   "outputs": [],
   "source": [
    "def stochastic_gradient_descent_steps(X, y, batch_size=10, iters=1000):\n",
    "    w0 = np.zeros((1,1))\n",
    "    w1 = np.zeros((1,1))\n",
    "    prev_cost = 100000\n",
    "    iter_index =0\n",
    "    \n",
    "    for ind in range(iters):\n",
    "        np.random.seed(ind)\n",
    "        # 전체 X, y 데이터에서 랜덤하게 batch_size만큼 데이터 추출하여 sample_X, sample_y로 저장\n",
    "        stochastic_random_index = np.random.permutation(X.shape[0])\n",
    "        sample_X = X[stochastic_random_index[0:batch_size]]\n",
    "        sample_y = y[stochastic_random_index[0:batch_size]]\n",
    "        # 랜덤하게 batch_size만큼 추출된 데이터 기반으로 w1_update, w0_update 계산 후 업데이트\n",
    "        w1_update, w0_update = get_weight_updates(w1, w0, sample_X, sample_y, learning_rate=0.01)\n",
    "        w1 = w1 - w1_update\n",
    "        w0 = w0 - w0_update\n",
    "    \n",
    "    return w1, w0"
   ]
  },
  {
   "cell_type": "code",
   "execution_count": 8,
   "id": "649598d7",
   "metadata": {},
   "outputs": [
    {
     "name": "stdout",
     "output_type": "stream",
     "text": [
      "w1: 4.028 w0: 6.156\n",
      "Stochastic Gradient Descent Total Cost:0.9937\n"
     ]
    }
   ],
   "source": [
    "w1, w0 = stochastic_gradient_descent_steps(X, y, iters=1000)\n",
    "print(\"w1:\",round(w1[0,0],3),\"w0:\",round(w0[0,0],3))\n",
    "y_pred = w1[0,0] * X + w0\n",
    "print('Stochastic Gradient Descent Total Cost:{0:.4f}'.format(get_cost(y, y_pred)))"
   ]
  },
  {
   "cell_type": "markdown",
   "id": "e26bfc00",
   "metadata": {},
   "source": [
    "### 다항 회귀 (Polynomial Regression)\n",
    "\n",
    "* 다항회귀는 2차, 3차 방정식과 같이 다항식으로 표현된다.\n",
    "* Y = w0 + (w1 * x1) + (w2 * x2) + (w3 * x1 * x2) + (w4 * x1^2) + (w5 * x2^2)\n",
    "* 다항 회귀는 \"선형 회귀\"이다. 회귀 계수가 선형/비선형인지에 따라 선형 회귀와 비선형 회귀를 구분한다."
   ]
  },
  {
   "cell_type": "markdown",
   "id": "8d44f9c2",
   "metadata": {},
   "source": [
    "### Polynomial Regression 을 이용한 Underfitting, Overfitting 이해\n",
    "\n",
    "* model complexity : 학습 데이터의 패턴을 얼마나 학습할 것인가?\n",
    "* 과소적합 (모델이 덜 복잡하다. 고편향 & 저분산)\n",
    "* 과대적합 (모델이 복잡하다. 저편향 & 고분산)\n",
    "\n",
    "\n",
    "![model accuracy](https://www.cs.cornell.edu/courses/cs4780/2018fa/lectures/images/bias_variance/bullseye.png)"
   ]
  },
  {
   "cell_type": "markdown",
   "id": "bc851ba8",
   "metadata": {},
   "source": [
    "* 편향이 너무 높으면 전체 예측 값들의 평균적인 오류가 커진다.\n",
    "* 분산이 너무 높으면 특정 예측 값들의 오류는 작아지지만, 나머지 예측 값들의 오류가 커진다.\n",
    "\n",
    "![trade off](http://scott.fortmann-roe.com/docs/docs/BiasVariance/biasvariance.png)\n",
    "\n",
    "* 분산 & 편향 트레이드 오프에 대한 참고 강의 : https://www.cs.cornell.edu/courses/cs4780/2018fa/lectures/lecturenote12.html"
   ]
  },
  {
   "cell_type": "code",
   "execution_count": 9,
   "id": "d860db89",
   "metadata": {},
   "outputs": [],
   "source": [
    "import numpy as np\n",
    "import matplotlib.pyplot as plt\n",
    "from sklearn.pipeline import Pipeline\n",
    "from sklearn.preprocessing import PolynomialFeatures\n",
    "from sklearn.linear_model import LinearRegression\n",
    "from sklearn.model_selection import cross_val_score\n",
    "%matplotlib inline\n",
    "\n",
    "# random 값으로 구성된 X값에 대해 Cosine 변환값을 반환. \n",
    "def true_fun(X):\n",
    "    return np.cos(1.5 * np.pi * X)\n",
    "\n",
    "# X는 0 부터 1까지 30개의 random 값을 순서대로 sampling 한 데이타 입니다.  \n",
    "np.random.seed(0)\n",
    "n_samples = 30\n",
    "X = np.sort(np.random.rand(n_samples))\n",
    "\n",
    "# y 값은 cosine 기반의 true_fun() 에서 약간의 Noise 변동값을 더한 값입니다. \n",
    "y = true_fun(X) + np.random.randn(n_samples) * 0.1"
   ]
  },
  {
   "cell_type": "code",
   "execution_count": 10,
   "id": "85adfa2f",
   "metadata": {},
   "outputs": [
    {
     "data": {
      "text/plain": [
       "<matplotlib.collections.PathCollection at 0x11dc7831640>"
      ]
     },
     "execution_count": 10,
     "metadata": {},
     "output_type": "execute_result"
    },
    {
     "data": {
      "image/png": "[encoded data removed]",
      "text/plain": [
       "<Figure size 432x288 with 1 Axes>"
      ]
     },
     "metadata": {
      "needs_background": "light"
     },
     "output_type": "display_data"
    }
   ],
   "source": [
    "plt.scatter(X, y)"
   ]
  },
  {
   "cell_type": "code",
   "execution_count": 11,
   "id": "eb6f3ec1",
   "metadata": {},
   "outputs": [
    {
     "name": "stdout",
     "output_type": "stream",
     "text": [
      "\n",
      "Degree 1 회귀 계수는 [-2.] 입니다.\n",
      "Degree 1 MSE 는 0.41 입니다.\n",
      "\n",
      "Degree 4 회귀 계수는 [  0. -18.  24.  -7.] 입니다.\n",
      "Degree 4 MSE 는 0.04 입니다.\n",
      "\n",
      "Degree 15 회귀 계수는 [-2.98300000e+03  1.03899000e+05 -1.87415900e+06  2.03716020e+07\n",
      " -1.44873197e+08  7.09315193e+08 -2.47065814e+09  6.24561298e+09\n",
      " -1.15676589e+10  1.56895083e+10 -1.54006206e+10  1.06457414e+10\n",
      " -4.91378328e+09  1.35919894e+09 -1.70381130e+08] 입니다.\n",
      "Degree 15 MSE 는 181082440.25 입니다.\n"
     ]
    },
    {
     "data": {
      "image/png": "[encoded data removed]",
      "text/plain": [
       "<Figure size 1008x360 with 3 Axes>"
      ]
     },
     "metadata": {},
     "output_type": "display_data"
    }
   ],
   "source": [
    "plt.figure(figsize=(14, 5))\n",
    "degrees = [1, 4, 15]\n",
    "\n",
    "# 다항 회귀의 차수(degree)를 1, 4, 15로 각각 변화시키면서 비교합니다. \n",
    "for i in range(len(degrees)):\n",
    "    ax = plt.subplot(1, len(degrees), i + 1)\n",
    "    plt.setp(ax, xticks=(), yticks=())\n",
    "    \n",
    "    # 개별 degree별로 Polynomial 변환합니다. \n",
    "    polynomial_features = PolynomialFeatures(degree=degrees[i], include_bias=False)\n",
    "    linear_regression = LinearRegression()\n",
    "    pipeline = Pipeline([(\"polynomial_features\", polynomial_features),\n",
    "                         (\"linear_regression\", linear_regression)])\n",
    "    pipeline.fit(X.reshape(-1, 1), y)\n",
    "    \n",
    "    # 교차 검증으로 다항 회귀를 평가합니다. \n",
    "    scores = cross_val_score(pipeline, X.reshape(-1,1), y,scoring=\"neg_mean_squared_error\", cv=10)\n",
    "    coefficients = pipeline.named_steps['linear_regression'].coef_\n",
    "    print('\\nDegree {0} 회귀 계수는 {1} 입니다.'.format(degrees[i], np.round(coefficients),2))\n",
    "    print('Degree {0} MSE 는 {1:.2f} 입니다.'.format(degrees[i] , -1*np.mean(scores)))\n",
    "    \n",
    "    # 0 부터 1까지 테스트 데이터 세트를 100개로 나눠 예측을 수행합니다. \n",
    "    # 테스트 데이터 세트에 회귀 예측을 수행하고 예측 곡선과 실제 곡선을 그려서 비교합니다.  \n",
    "    X_test = np.linspace(0, 1, 100)\n",
    "    # 예측값 곡선\n",
    "    plt.plot(X_test, pipeline.predict(X_test[:, np.newaxis]), label=\"Model\") \n",
    "    # 실제 값 곡선\n",
    "    plt.plot(X_test, true_fun(X_test), '--', label=\"True function\")\n",
    "    plt.scatter(X, y, edgecolor='b', s=20, label=\"Samples\")\n",
    "    \n",
    "    plt.xlabel(\"x\"); plt.ylabel(\"y\"); plt.xlim((0, 1)); plt.ylim((-2, 2)); plt.legend(loc=\"best\")\n",
    "    plt.title(\"Degree {}\\nMSE = {:.2e}(+/- {:.2e})\".format(degrees[i], -scores.mean(), scores.std()))\n",
    "\n",
    "plt.show()"
   ]
  },
  {
   "cell_type": "code",
   "execution_count": null,
   "id": "892d5ad6",
   "metadata": {},
   "outputs": [],
   "source": []
  }
 ],
 "metadata": {
  "kernelspec": {
   "display_name": "Python 3",
   "language": "python",
   "name": "python3"
  },
  "language_info": {
   "codemirror_mode": {
    "name": "ipython",
    "version": 3
   },
   "file_extension": ".py",
   "mimetype": "text/x-python",
   "name": "python",
   "nbconvert_exporter": "python",
   "pygments_lexer": "ipython3",
   "version": "3.8.5"
  }
 },
 "nbformat": 4,
 "nbformat_minor": 5
}
